{
  "nbformat": 4,
  "nbformat_minor": 0,
  "metadata": {
    "colab": {
      "name": "Classses.ipynb",
      "provenance": [],
      "collapsed_sections": [],
      "authorship_tag": "ABX9TyNHH/hrBDgjuGFni9poosE2",
      "include_colab_link": true
    },
    "kernelspec": {
      "name": "python3",
      "display_name": "Python 3"
    }
  },
  "cells": [
    {
      "cell_type": "markdown",
      "metadata": {
        "id": "view-in-github",
        "colab_type": "text"
      },
      "source": [
        "<a href=\"https://colab.research.google.com/github/SidSolanki28/Python-Functions/blob/main/Classses.ipynb\" target=\"_parent\"><img src=\"https://colab.research.google.com/assets/colab-badge.svg\" alt=\"Open In Colab\"/></a>"
      ]
    },
    {
      "cell_type": "markdown",
      "metadata": {
        "id": "yQRzYiWrvDX1"
      },
      "source": [
        "#Object-oriented programming (OOP)"
      ]
    },
    {
      "cell_type": "markdown",
      "metadata": {
        "id": "OWt66Z_yu4qx"
      },
      "source": [
        "Object-oriented programming (OOP) is a programming paradigm based on “object” which is a way to define something in a programming language containing variable as “field/attributes” and functions as “method”. OOP allows programmers to create their own objects that have methods and attributes. OOP allows a user to create their own object which is repeatable and organized."
      ]
    },
    {
      "cell_type": "markdown",
      "metadata": {
        "id": "iQc4fRSxvzGH"
      },
      "source": [
        "## Classes"
      ]
    },
    {
      "cell_type": "markdown",
      "metadata": {
        "id": "J5ZaP_JcvffO"
      },
      "source": [
        "Class is a template for an object that has methods and variables. \n",
        "\n",
        "Classes allow us to logically group our data and functions in a way that’s easy to reuse and also easy to build upon if need be. Here data and functions are called attributes and methods"
      ]
    },
    {
      "cell_type": "markdown",
      "metadata": {
        "id": "NWGe61pFvyG5"
      },
      "source": [
        "Class Car is defined without passing any attributes. passdoesn’t do anything, it's just a placeholder"
      ]
    },
    {
      "cell_type": "code",
      "metadata": {
        "id": "3l8tDMpfk1V9"
      },
      "source": [
        "class Car:\n",
        "  pass"
      ],
      "execution_count": 1,
      "outputs": []
    },
    {
      "cell_type": "code",
      "metadata": {
        "id": "qUo0ZsoalAxY"
      },
      "source": [
        "thar = Car()"
      ],
      "execution_count": 2,
      "outputs": []
    },
    {
      "cell_type": "code",
      "metadata": {
        "id": "1Mny_2_llVgt",
        "outputId": "4a08da84-bc8b-4719-bcb1-4cc2095874ae",
        "colab": {
          "base_uri": "https://localhost:8080/",
          "height": 33
        }
      },
      "source": [
        "thar"
      ],
      "execution_count": 3,
      "outputs": [
        {
          "output_type": "execute_result",
          "data": {
            "text/plain": [
              "<__main__.Car at 0x7fefefe2a278>"
            ]
          },
          "metadata": {
            "tags": []
          },
          "execution_count": 3
        }
      ]
    },
    {
      "cell_type": "code",
      "metadata": {
        "id": "W0iI2oo_lEtw"
      },
      "source": [
        "thar.windows = 6\n",
        "thar.doors = 4\n",
        "thar.engine = 'petrol'"
      ],
      "execution_count": 4,
      "outputs": []
    },
    {
      "cell_type": "code",
      "metadata": {
        "id": "XvgYtp_WlR21",
        "outputId": "ca784986-7e45-4386-fe80-8b736d29f6a9",
        "colab": {
          "base_uri": "https://localhost:8080/",
          "height": 50
        }
      },
      "source": [
        "print(thar.windows)\n",
        "print(thar.engine)"
      ],
      "execution_count": 5,
      "outputs": [
        {
          "output_type": "stream",
          "text": [
            "6\n",
            "petrol\n"
          ],
          "name": "stdout"
        }
      ]
    },
    {
      "cell_type": "code",
      "metadata": {
        "id": "ajlwTY1vl2C-",
        "outputId": "72fe9558-2625-44ee-d908-93224c560075",
        "colab": {
          "base_uri": "https://localhost:8080/",
          "height": 440
        }
      },
      "source": [
        "dir(Car)"
      ],
      "execution_count": 6,
      "outputs": [
        {
          "output_type": "execute_result",
          "data": {
            "text/plain": [
              "['__class__',\n",
              " '__delattr__',\n",
              " '__dict__',\n",
              " '__dir__',\n",
              " '__doc__',\n",
              " '__eq__',\n",
              " '__format__',\n",
              " '__ge__',\n",
              " '__getattribute__',\n",
              " '__gt__',\n",
              " '__hash__',\n",
              " '__init__',\n",
              " '__init_subclass__',\n",
              " '__le__',\n",
              " '__lt__',\n",
              " '__module__',\n",
              " '__ne__',\n",
              " '__new__',\n",
              " '__reduce__',\n",
              " '__reduce_ex__',\n",
              " '__repr__',\n",
              " '__setattr__',\n",
              " '__sizeof__',\n",
              " '__str__',\n",
              " '__subclasshook__',\n",
              " '__weakref__']"
            ]
          },
          "metadata": {
            "tags": []
          },
          "execution_count": 6
        }
      ]
    },
    {
      "cell_type": "code",
      "metadata": {
        "id": "kPBB8d42l7jP"
      },
      "source": [
        "class Jeep:\n",
        "  def __init__(self, windows, doors, enginetype):\n",
        "    self.window = windows\n",
        "    self.door = doors\n",
        "    self.engine = enginetype\n",
        "\n",
        "  def self_driving(self):\n",
        "    return print(f\"This is a {self.engine}\")"
      ],
      "execution_count": 7,
      "outputs": []
    },
    {
      "cell_type": "code",
      "metadata": {
        "id": "wXeA3Efynk6K"
      },
      "source": [
        "Thar = Jeep(8,6,\"diesel\")"
      ],
      "execution_count": 8,
      "outputs": []
    },
    {
      "cell_type": "code",
      "metadata": {
        "id": "Pjzi8mh7nu0X"
      },
      "source": [
        "SUmo = Jeep(6,4,\"diesel\")"
      ],
      "execution_count": 9,
      "outputs": []
    },
    {
      "cell_type": "code",
      "metadata": {
        "id": "bX5MDDeSpnAn",
        "outputId": "279d363f-4653-47f3-c07e-46d3e2aac370",
        "colab": {
          "base_uri": "https://localhost:8080/",
          "height": 50
        }
      },
      "source": [
        "print(Thar.self_driving())"
      ],
      "execution_count": 10,
      "outputs": [
        {
          "output_type": "stream",
          "text": [
            "This is a diesel\n",
            "None\n"
          ],
          "name": "stdout"
        }
      ]
    }
  ]
}